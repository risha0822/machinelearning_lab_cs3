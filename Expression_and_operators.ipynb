{
  "nbformat": 4,
  "nbformat_minor": 0,
  "metadata": {
    "colab": {
      "name": "Expression_and_operators.ipynb",
      "provenance": [],
      "authorship_tag": "ABX9TyPVDGw/IvLWtAnAw3FZM4pQ",
      "include_colab_link": true
    },
    "kernelspec": {
      "name": "python3",
      "display_name": "Python 3"
    }
  },
  "cells": [
    {
      "cell_type": "markdown",
      "metadata": {
        "id": "view-in-github",
        "colab_type": "text"
      },
      "source": [
        "<a href=\"https://colab.research.google.com/github/risha0822/machinelearning_lab_cs3/blob/master/Expression_and_operators.ipynb\" target=\"_parent\"><img src=\"https://colab.research.google.com/assets/colab-badge.svg\" alt=\"Open In Colab\"/></a>"
      ]
    },
    {
      "cell_type": "code",
      "metadata": {
        "id": "K8nf3hO8UiT-",
        "colab_type": "code",
        "colab": {
          "base_uri": "https://localhost:8080/",
          "height": 68
        },
        "outputId": "99c17c0e-88d7-42f8-dc0d-c9f2d075d4d8"
      },
      "source": [
        "n=9\n",
        "print(n,'binary',format(n,'b'))\n",
        "print(n,'* 2=',n<<1, format(n<<1,'b'))\n",
        "print(n,'/ 2=',n>>1,format(n>>1,'b'))"
      ],
      "execution_count": 1,
      "outputs": [
        {
          "output_type": "stream",
          "text": [
            "9 binary 1001\n",
            "9 * 2= 18 10010\n",
            "9 / 2= 4 100\n"
          ],
          "name": "stdout"
        }
      ]
    },
    {
      "cell_type": "code",
      "metadata": {
        "id": "zW1vztixUunX",
        "colab_type": "code",
        "colab": {
          "base_uri": "https://localhost:8080/",
          "height": 68
        },
        "outputId": "5a94a5a8-de59-4fbb-cfa9-b8115bac9ad5"
      },
      "source": [
        "# logical\n",
        "x = True\n",
        "y = False\n",
        "print('x and y is',x and y) # Output: x and y is False\n",
        "print('x or y is',x or y) # Output: x or y is True\n",
        "print('not x is',not x) # Output: not x is False"
      ],
      "execution_count": 2,
      "outputs": [
        {
          "output_type": "stream",
          "text": [
            "x and y is False\n",
            "x or y is True\n",
            "not x is False\n"
          ],
          "name": "stdout"
        }
      ]
    },
    {
      "cell_type": "code",
      "metadata": {
        "id": "k63_GTwhUyfM",
        "colab_type": "code",
        "colab": {
          "base_uri": "https://localhost:8080/",
          "height": 68
        },
        "outputId": "e5e87074-50a8-4b5d-8968-de24427fde72"
      },
      "source": [
        "# bitwise\n",
        "x=12 \n",
        "y=4\n",
        "print(x & y) \n",
        "print(x | y)\n",
        "print(x ^ y)"
      ],
      "execution_count": 3,
      "outputs": [
        {
          "output_type": "stream",
          "text": [
            "4\n",
            "12\n",
            "8\n"
          ],
          "name": "stdout"
        }
      ]
    },
    {
      "cell_type": "code",
      "metadata": {
        "id": "NUXlxmSZU6g6",
        "colab_type": "code",
        "colab": {
          "base_uri": "https://localhost:8080/",
          "height": 51
        },
        "outputId": "2e68f638-f56a-4ad5-feec-11433f96c291"
      },
      "source": [
        "# in and not in\n",
        "\n",
        "x = 'Hello world'\n",
        "print('H' in x)    # Output: True\n",
        "print('h' not in x)   # Output: True"
      ],
      "execution_count": 4,
      "outputs": [
        {
          "output_type": "stream",
          "text": [
            "True\n",
            "True\n"
          ],
          "name": "stdout"
        }
      ]
    },
    {
      "cell_type": "code",
      "metadata": {
        "id": "M43s3u2rVAwU",
        "colab_type": "code",
        "colab": {
          "base_uri": "https://localhost:8080/",
          "height": 85
        },
        "outputId": "aad0d61c-e181-45a2-f9db-742e4af226af"
      },
      "source": [
        "# perform operations on complex numbers\n",
        "\n",
        "import cmath\n",
        "a=complex(20+5j)\n",
        "b=complex(5+3j)\n",
        "print('a+b',a+b)\n",
        "print('a-b',a-b)\n",
        "print('a*b',a*b)\n",
        "print('a/b',a/b)"
      ],
      "execution_count": 5,
      "outputs": [
        {
          "output_type": "stream",
          "text": [
            "a+b (25+8j)\n",
            "a-b (15+2j)\n",
            "a*b (85+85j)\n",
            "a/b (3.3823529411764706-1.0294117647058825j)\n"
          ],
          "name": "stdout"
        }
      ]
    },
    {
      "cell_type": "code",
      "metadata": {
        "id": "dhOyJjseVGb-",
        "colab_type": "code",
        "colab": {
          "base_uri": "https://localhost:8080/",
          "height": 85
        },
        "outputId": "c9573a9c-dd66-4e52-88ba-16cb435048c3"
      },
      "source": [
        "# write your code after this line\n",
        "import math\n",
        "length=int(input(\"Enter lenght of triangle\"))\n",
        "breadth=int(input(\"Enter Breadth of triangle\"))\n",
        "height=int(input(\"Enter height of triangle\"))\n",
        "s=(length+breadth+height)/2\n",
        "area=(s*(s-height)*(s-length)*(s-breadth))\n",
        "n=abs(area)\n",
        "areaf=math.sqrt(n)\n",
        "print(areaf)"
      ],
      "execution_count": 6,
      "outputs": [
        {
          "output_type": "stream",
          "text": [
            "Enter lenght of triangle10\n",
            "Enter Breadth of triangle6\n",
            "Enter height of triangle8\n",
            "24.0\n"
          ],
          "name": "stdout"
        }
      ]
    },
    {
      "cell_type": "code",
      "metadata": {
        "id": "tkB2kM0gVUNW",
        "colab_type": "code",
        "colab": {
          "base_uri": "https://localhost:8080/",
          "height": 51
        },
        "outputId": "0e0cccfe-fde9-4581-958f-c2f07432e3b7"
      },
      "source": [
        "# write your code after this line\n",
        "ch=input(\"Enter a letter \")\n",
        "if(ch == 'a' or ch == 'e' or ch == 'i' or ch == 'o' or ch == 'u' or ch == 'A'\n",
        "       or ch == 'E' or ch == 'I' or ch == 'O' or ch == 'U'):\n",
        "  print(\"Character entered is Vowel \")\n",
        "else:\n",
        "  print(\"Character is consonant \")"
      ],
      "execution_count": 7,
      "outputs": [
        {
          "output_type": "stream",
          "text": [
            "Enter a letter a\n",
            "Character entered is Vowel \n"
          ],
          "name": "stdout"
        }
      ]
    },
    {
      "cell_type": "code",
      "metadata": {
        "id": "7CpkJ6D_Vbii",
        "colab_type": "code",
        "colab": {
          "base_uri": "https://localhost:8080/",
          "height": 51
        },
        "outputId": "f317b047-b14c-4357-cd99-89d33c868359"
      },
      "source": [
        "# write your code after this line\n",
        "ch=input(\"Enter a digit(ASCII) or character\") \n",
        "if (ch>='48' and ch<='58'):\n",
        "  print(\"Its a digit\")\n",
        "if(ch>='97' and ch<='122'):\n",
        "  print(\"Character is lowercase\")\n",
        "if(ch>='65' and ch<='90'):\n",
        "  print(\"Character is uppercase\")"
      ],
      "execution_count": 8,
      "outputs": [
        {
          "output_type": "stream",
          "text": [
            "Enter a digit(ASCII) or character65\n",
            "Character is uppercase\n"
          ],
          "name": "stdout"
        }
      ]
    },
    {
      "cell_type": "code",
      "metadata": {
        "id": "0DdcPWr6VllS",
        "colab_type": "code",
        "colab": {
          "base_uri": "https://localhost:8080/",
          "height": 204
        },
        "outputId": "ae262d59-b9ae-412c-d9ad-dcbe643b7273"
      },
      "source": [
        "# write your code after this line\n",
        "n = int(input(\"Enter any number : \"))\n",
        "for i in range(1, 11):\n",
        "  print(n,\" x \", i, \" = \", n*i)"
      ],
      "execution_count": 9,
      "outputs": [
        {
          "output_type": "stream",
          "text": [
            "Enter any number : 8\n",
            "8  x  1  =  8\n",
            "8  x  2  =  16\n",
            "8  x  3  =  24\n",
            "8  x  4  =  32\n",
            "8  x  5  =  40\n",
            "8  x  6  =  48\n",
            "8  x  7  =  56\n",
            "8  x  8  =  64\n",
            "8  x  9  =  72\n",
            "8  x  10  =  80\n"
          ],
          "name": "stdout"
        }
      ]
    },
    {
      "cell_type": "code",
      "metadata": {
        "id": "HirFoHCVVx7L",
        "colab_type": "code",
        "colab": {
          "base_uri": "https://localhost:8080/",
          "height": 51
        },
        "outputId": "5a7d3e66-2e65-4ba8-cb2c-b458c63d4ab2"
      },
      "source": [
        "import math\n",
        "Sum = 0\n",
        "n = int(input(\"Enter any number : \"))\n",
        "for i in range(1, n+1):\n",
        "  Fact = math.factorial(i)\n",
        "  Sum += Fact\n",
        "\n",
        "print(\"Sum of series is: \", Sum)"
      ],
      "execution_count": 10,
      "outputs": [
        {
          "output_type": "stream",
          "text": [
            "Enter any number : 8\n",
            "Sum of series is:  46233\n"
          ],
          "name": "stdout"
        }
      ]
    },
    {
      "cell_type": "code",
      "metadata": {
        "id": "sBNvl30NWCOD",
        "colab_type": "code",
        "colab": {
          "base_uri": "https://localhost:8080/",
          "height": 51
        },
        "outputId": "3d2375b0-43c2-4e39-ffcd-961edc2e9850"
      },
      "source": [
        "# write your code after this line\n",
        "n, fact = int(input(\"Enter the number : \")), 1\n",
        "for i in range(1,n+1):\n",
        "  fact *= i\n",
        "print(\"Factorial        :\",fact)"
      ],
      "execution_count": 11,
      "outputs": [
        {
          "output_type": "stream",
          "text": [
            "Enter the number : 4\n",
            "Factorial        : 24\n"
          ],
          "name": "stdout"
        }
      ]
    },
    {
      "cell_type": "code",
      "metadata": {
        "id": "KS37BD7IWLgB",
        "colab_type": "code",
        "colab": {
          "base_uri": "https://localhost:8080/",
          "height": 51
        },
        "outputId": "8dae92c5-f348-4de2-ef6a-3a6201669d1b"
      },
      "source": [
        "# write your code after this line\n",
        "L = list(map(int, input().split()))\n",
        "n = len(L)\n",
        "i = 0\n",
        "Max = L[0]\n",
        "while(i<n):\n",
        "  if (L[i]>=Max):\n",
        "    Max = L[i]  \n",
        "  \n",
        "  i += 1\n",
        "\n",
        "print(\"Maximum is: \", Max)"
      ],
      "execution_count": 12,
      "outputs": [
        {
          "output_type": "stream",
          "text": [
            "22 8 1 25 69\n",
            "Maximum is:  69\n"
          ],
          "name": "stdout"
        }
      ]
    },
    {
      "cell_type": "code",
      "metadata": {
        "id": "YTYHmC7XWam2",
        "colab_type": "code",
        "colab": {
          "base_uri": "https://localhost:8080/",
          "height": 51
        },
        "outputId": "fd526d15-62ce-4c4a-cb7e-369bf62eec05"
      },
      "source": [
        "\n",
        "# factorial\n",
        "n=int(input('Enter a number '))\n",
        "fact=1\n",
        "for i in range(n,1,-1):\n",
        "    fact=fact*i\n",
        "print(n,'! =',fact)"
      ],
      "execution_count": 13,
      "outputs": [
        {
          "output_type": "stream",
          "text": [
            "Enter a number 5\n",
            "5 ! = 120\n"
          ],
          "name": "stdout"
        }
      ]
    },
    {
      "cell_type": "code",
      "metadata": {
        "id": "jG5HlyKPWpUj",
        "colab_type": "code",
        "colab": {
          "base_uri": "https://localhost:8080/",
          "height": 153
        },
        "outputId": "fa6184c0-51c2-4cbc-b810-11c2ecf7732d"
      },
      "source": [
        "# write your code after this line\n",
        "for i in range(0, 10):\n",
        "  if i == 3 or i == 6:\n",
        "    continue\n",
        "  else:\n",
        "    print(i)"
      ],
      "execution_count": 14,
      "outputs": [
        {
          "output_type": "stream",
          "text": [
            "0\n",
            "1\n",
            "2\n",
            "4\n",
            "5\n",
            "7\n",
            "8\n",
            "9\n"
          ],
          "name": "stdout"
        }
      ]
    },
    {
      "cell_type": "code",
      "metadata": {
        "id": "U-tCDYeFWscc",
        "colab_type": "code",
        "colab": {
          "base_uri": "https://localhost:8080/",
          "height": 204
        },
        "outputId": "6c33cbb5-faeb-47e4-a002-7cad7ce4d027"
      },
      "source": [
        "a, b, c = 0, 0, 0\n",
        "for i in range(1, 11):\n",
        "  N = int(input(\"Enter a number: \"))\n",
        "\n",
        "  if N > 0:\n",
        "    a += 1\n",
        "  elif N == 0:\n",
        "    b += 1\n",
        "  elif N < 0:\n",
        "    c += 1\n",
        "\n",
        "print(a, b, c)"
      ],
      "execution_count": 15,
      "outputs": [
        {
          "output_type": "stream",
          "text": [
            "Enter a number: 10\n",
            "Enter a number: -2\n",
            "Enter a number: 0\n",
            "Enter a number: 4\n",
            "Enter a number: -7\n",
            "Enter a number: -9\n",
            "Enter a number: 0\n",
            "Enter a number: 24\n",
            "Enter a number: 27\n",
            "Enter a number: 0\n",
            "4 3 3\n"
          ],
          "name": "stdout"
        }
      ]
    }
  ]
}